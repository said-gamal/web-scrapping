{
    "cells": [
        {
            "cell_type": "markdown",
            "source": [
                "# Import liberaries"
            ],
            "metadata": {}
        },
        {
            "cell_type": "code",
            "execution_count": 1,
            "source": [
                "from selenium import webdriver\r\n",
                "import pandas as pd"
            ],
            "outputs": [],
            "metadata": {}
        },
        {
            "cell_type": "markdown",
            "source": [
                "# Scrape the website"
            ],
            "metadata": {}
        },
        {
            "cell_type": "code",
            "execution_count": 2,
            "source": [
                "# specify the path to the selenium webdriver for Chrome browser\r\n",
                "driver_path = 'chromedriver_win32\\chromedriver.exe'\r\n",
                "# create instance from selenium webdriver for Chrome browser\r\n",
                "selenium_driver = webdriver.Chrome(driver_path)\r\n",
                "# get the data from the website\r\n",
                "url = 'https://www.sos.ca.gov/state-holidays'\r\n",
                "selenium_driver.get(url)\r\n",
                "# select the data by specifing the xpath for the required elements\r\n",
                "dates = selenium_driver.find_elements_by_xpath(\"//table[@summary='Dates of observed state holidays in 2020.']/tbody/tr/td[1]\")\r\n",
                "holidays = selenium_driver.find_elements_by_xpath(\"//table[@summary='Dates of observed state holidays in 2020.']/tbody/tr/td[2]\")"
            ],
            "outputs": [],
            "metadata": {}
        },
        {
            "cell_type": "markdown",
            "source": [
                "# Create dataframe from the scraped data"
            ],
            "metadata": {}
        },
        {
            "cell_type": "code",
            "execution_count": 3,
            "source": [
                "# create lists to store the data\r\n",
                "dates_lst = [element.text for element in dates]\r\n",
                "holidays_lst = [element.text for element in holidays]"
            ],
            "outputs": [],
            "metadata": {}
        },
        {
            "cell_type": "code",
            "execution_count": 4,
            "source": [
                "# create dataframe from the lists\r\n",
                "holidays_df = pd.DataFrame({'date':dates_lst, 'holiday_name':holidays_lst})\r\n",
                "holidays_df"
            ],
            "outputs": [
                {
                    "output_type": "execute_result",
                    "data": {
                        "text/plain": [
                            "                                             date                 holiday_name\n",
                            "0                               Friday, January 1               New Year's Day\n",
                            "1                              Monday, January 18  Martin Luther King, Jr. Day\n",
                            "2                             Monday, February 15              Presidents' Day\n",
                            "3                             Wednesday, March 31             César Chávez Day\n",
                            "4                                  Monday, May 31                 Memorial Day\n",
                            "5                                  Monday, July 5   July 4th (Observed Monday)\n",
                            "6                             Monday, September 6                    Labor Day\n",
                            "7                           Thursday, November 11                Veterans Day \n",
                            "8  Thursday, November 25 and\\nFriday, November 26         Thanksgiving Holiday\n",
                            "9                           Saturday, December 25                Christmas Day"
                        ],
                        "text/html": [
                            "<div>\n",
                            "<style scoped>\n",
                            "    .dataframe tbody tr th:only-of-type {\n",
                            "        vertical-align: middle;\n",
                            "    }\n",
                            "\n",
                            "    .dataframe tbody tr th {\n",
                            "        vertical-align: top;\n",
                            "    }\n",
                            "\n",
                            "    .dataframe thead th {\n",
                            "        text-align: right;\n",
                            "    }\n",
                            "</style>\n",
                            "<table border=\"1\" class=\"dataframe\">\n",
                            "  <thead>\n",
                            "    <tr style=\"text-align: right;\">\n",
                            "      <th></th>\n",
                            "      <th>date</th>\n",
                            "      <th>holiday_name</th>\n",
                            "    </tr>\n",
                            "  </thead>\n",
                            "  <tbody>\n",
                            "    <tr>\n",
                            "      <th>0</th>\n",
                            "      <td>Friday, January 1</td>\n",
                            "      <td>New Year's Day</td>\n",
                            "    </tr>\n",
                            "    <tr>\n",
                            "      <th>1</th>\n",
                            "      <td>Monday, January 18</td>\n",
                            "      <td>Martin Luther King, Jr. Day</td>\n",
                            "    </tr>\n",
                            "    <tr>\n",
                            "      <th>2</th>\n",
                            "      <td>Monday, February 15</td>\n",
                            "      <td>Presidents' Day</td>\n",
                            "    </tr>\n",
                            "    <tr>\n",
                            "      <th>3</th>\n",
                            "      <td>Wednesday, March 31</td>\n",
                            "      <td>César Chávez Day</td>\n",
                            "    </tr>\n",
                            "    <tr>\n",
                            "      <th>4</th>\n",
                            "      <td>Monday, May 31</td>\n",
                            "      <td>Memorial Day</td>\n",
                            "    </tr>\n",
                            "    <tr>\n",
                            "      <th>5</th>\n",
                            "      <td>Monday, July 5</td>\n",
                            "      <td>July 4th (Observed Monday)</td>\n",
                            "    </tr>\n",
                            "    <tr>\n",
                            "      <th>6</th>\n",
                            "      <td>Monday, September 6</td>\n",
                            "      <td>Labor Day</td>\n",
                            "    </tr>\n",
                            "    <tr>\n",
                            "      <th>7</th>\n",
                            "      <td>Thursday, November 11</td>\n",
                            "      <td>Veterans Day</td>\n",
                            "    </tr>\n",
                            "    <tr>\n",
                            "      <th>8</th>\n",
                            "      <td>Thursday, November 25 and\\nFriday, November 26</td>\n",
                            "      <td>Thanksgiving Holiday</td>\n",
                            "    </tr>\n",
                            "    <tr>\n",
                            "      <th>9</th>\n",
                            "      <td>Saturday, December 25</td>\n",
                            "      <td>Christmas Day</td>\n",
                            "    </tr>\n",
                            "  </tbody>\n",
                            "</table>\n",
                            "</div>"
                        ]
                    },
                    "metadata": {},
                    "execution_count": 4
                }
            ],
            "metadata": {}
        },
        {
            "cell_type": "markdown",
            "source": [
                "# Save the dataframe to csv file"
            ],
            "metadata": {}
        },
        {
            "cell_type": "code",
            "execution_count": 8,
            "source": [
                "holidays_df.to_csv('holidays_info.csv', index=False)"
            ],
            "outputs": [],
            "metadata": {}
        }
    ],
    "metadata": {
        "orig_nbformat": 4,
        "language_info": {
            "name": "python"
        }
    },
    "nbformat": 4,
    "nbformat_minor": 2
}