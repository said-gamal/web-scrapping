{
    "cells": [
        {
            "cell_type": "markdown",
            "source": [
                "# Import liberaies"
            ],
            "metadata": {}
        },
        {
            "cell_type": "code",
            "execution_count": 2,
            "source": [
                "from selenium import webdriver\r\n",
                "import pandas as pd"
            ],
            "outputs": [],
            "metadata": {}
        },
        {
            "cell_type": "markdown",
            "source": [
                "# Scrape the full website pages"
            ],
            "metadata": {}
        },
        {
            "cell_type": "code",
            "execution_count": 3,
            "source": [
                "# locate and create instance from selenium webdriver\r\n",
                "PATH = \"chromedriver_win32\\chromedriver.exe\"\r\n",
                "driver = webdriver.Chrome(PATH)\r\n",
                "# create list to save all book details\r\n",
                "all_details = []\r\n",
                "# scrape all the 50 pages\r\n",
                "for i in range(1, 51):\r\n",
                "    try:\r\n",
                "        driver.get(\"http://books.toscrape.com/catalogue/category/books_1/page-{}.html\".format(i))\r\n",
                "        # select by the xpath\r\n",
                "        incategory = driver.find_elements_by_class_name(\"product_pod\")\r\n",
                "        links = []\r\n",
                "        # select all links in the page\r\n",
                "        for j in range(len(incategory)):\r\n",
                "            item = incategory[j]\r\n",
                "            link = item.find_element_by_tag_name(\"h3\").find_element_by_tag_name(\"a\").get_property(\"href\")\r\n",
                "            links.append(link)\r\n",
                "        # get all informations about the book in every link\r\n",
                "        for link in links:\r\n",
                "            driver.get(link)\r\n",
                "            title = driver.find_element_by_xpath(\"//*[@id='content_inner']/article/div[1]/div[2]/h1\")\r\n",
                "            price = driver.find_element_by_xpath(\"//*[@id='content_inner']/article/div[1]/div[2]/p[1]\")\r\n",
                "            stock = driver.find_element_by_xpath(\"//*[@id='content_inner']/article/div[1]/div[2]/p[2]\")\r\n",
                "            stars = driver.find_element_by_xpath(\"//*[@id='content_inner']/article/div[1]/div[2]/p[3]\").get_attribute(\"class\")\r\n",
                "            stars = stars.split()[1]\r\n",
                "            category_a =  driver.find_element_by_xpath(\"//*[@id='default']/div/div/ul/li[3]/a\")\r\n",
                "            \r\n",
                "            try:\r\n",
                "                description = driver.find_element_by_xpath(\"//*[@id='content_inner']/article/p\")\r\n",
                "                description = description.text\r\n",
                "            except:\r\n",
                "                description = None\r\n",
                "            # create a dictionary to save all book informations and append it to all_details list\r\n",
                "            row = {\r\n",
                "\t\t\t\t\"Title\":title.text,\r\n",
                "\t\t\t\t\"Category\":category_a.text,\r\n",
                "\t\t\t\t\"Stock\": stock.text,\r\n",
                "\t\t\t\t\"Stars\": stars,\r\n",
                "\t\t\t\t\"Price\":price.text,\r\n",
                "\t\t\t\t\"Description\": description\r\n",
                "\t\t\t}\r\n",
                "            all_details.append(row)\r\n",
                "    except:\r\n",
                "        driver.close()"
            ],
            "outputs": [],
            "metadata": {}
        },
        {
            "cell_type": "markdown",
            "source": [
                "# Create dataframe for all scrapped informations"
            ],
            "metadata": {}
        },
        {
            "cell_type": "code",
            "execution_count": 4,
            "source": [
                "all_books_df = pd.DataFrame(all_details)\r\n",
                "all_books_df.head()"
            ],
            "outputs": [
                {
                    "output_type": "execute_result",
                    "data": {
                        "text/plain": [
                            "                                   Title            Category  \\\n",
                            "0                   A Light in the Attic              Poetry   \n",
                            "1                     Tipping the Velvet  Historical Fiction   \n",
                            "2                             Soumission             Fiction   \n",
                            "3                          Sharp Objects             Mystery   \n",
                            "4  Sapiens: A Brief History of Humankind             History   \n",
                            "\n",
                            "                     Stock  Stars   Price  \\\n",
                            "0  In stock (22 available)  Three  £51.77   \n",
                            "1  In stock (20 available)    One  £53.74   \n",
                            "2  In stock (20 available)    One  £50.10   \n",
                            "3  In stock (20 available)   Four  £47.82   \n",
                            "4  In stock (20 available)   Five  £54.23   \n",
                            "\n",
                            "                                         Description  \n",
                            "0  It's hard to imagine a world without A Light i...  \n",
                            "1  \"Erotic and absorbing...Written with starling ...  \n",
                            "2  Dans une France assez proche de la nôtre, un h...  \n",
                            "3  WICKED above her hipbone, GIRL across her hear...  \n",
                            "4  From a renowned historian comes a groundbreaki...  "
                        ],
                        "text/html": [
                            "<div>\n",
                            "<style scoped>\n",
                            "    .dataframe tbody tr th:only-of-type {\n",
                            "        vertical-align: middle;\n",
                            "    }\n",
                            "\n",
                            "    .dataframe tbody tr th {\n",
                            "        vertical-align: top;\n",
                            "    }\n",
                            "\n",
                            "    .dataframe thead th {\n",
                            "        text-align: right;\n",
                            "    }\n",
                            "</style>\n",
                            "<table border=\"1\" class=\"dataframe\">\n",
                            "  <thead>\n",
                            "    <tr style=\"text-align: right;\">\n",
                            "      <th></th>\n",
                            "      <th>Title</th>\n",
                            "      <th>Category</th>\n",
                            "      <th>Stock</th>\n",
                            "      <th>Stars</th>\n",
                            "      <th>Price</th>\n",
                            "      <th>Description</th>\n",
                            "    </tr>\n",
                            "  </thead>\n",
                            "  <tbody>\n",
                            "    <tr>\n",
                            "      <th>0</th>\n",
                            "      <td>A Light in the Attic</td>\n",
                            "      <td>Poetry</td>\n",
                            "      <td>In stock (22 available)</td>\n",
                            "      <td>Three</td>\n",
                            "      <td>£51.77</td>\n",
                            "      <td>It's hard to imagine a world without A Light i...</td>\n",
                            "    </tr>\n",
                            "    <tr>\n",
                            "      <th>1</th>\n",
                            "      <td>Tipping the Velvet</td>\n",
                            "      <td>Historical Fiction</td>\n",
                            "      <td>In stock (20 available)</td>\n",
                            "      <td>One</td>\n",
                            "      <td>£53.74</td>\n",
                            "      <td>\"Erotic and absorbing...Written with starling ...</td>\n",
                            "    </tr>\n",
                            "    <tr>\n",
                            "      <th>2</th>\n",
                            "      <td>Soumission</td>\n",
                            "      <td>Fiction</td>\n",
                            "      <td>In stock (20 available)</td>\n",
                            "      <td>One</td>\n",
                            "      <td>£50.10</td>\n",
                            "      <td>Dans une France assez proche de la nôtre, un h...</td>\n",
                            "    </tr>\n",
                            "    <tr>\n",
                            "      <th>3</th>\n",
                            "      <td>Sharp Objects</td>\n",
                            "      <td>Mystery</td>\n",
                            "      <td>In stock (20 available)</td>\n",
                            "      <td>Four</td>\n",
                            "      <td>£47.82</td>\n",
                            "      <td>WICKED above her hipbone, GIRL across her hear...</td>\n",
                            "    </tr>\n",
                            "    <tr>\n",
                            "      <th>4</th>\n",
                            "      <td>Sapiens: A Brief History of Humankind</td>\n",
                            "      <td>History</td>\n",
                            "      <td>In stock (20 available)</td>\n",
                            "      <td>Five</td>\n",
                            "      <td>£54.23</td>\n",
                            "      <td>From a renowned historian comes a groundbreaki...</td>\n",
                            "    </tr>\n",
                            "  </tbody>\n",
                            "</table>\n",
                            "</div>"
                        ]
                    },
                    "metadata": {},
                    "execution_count": 4
                }
            ],
            "metadata": {}
        },
        {
            "cell_type": "markdown",
            "source": [
                "# Save the dataframe to csv file"
            ],
            "metadata": {}
        },
        {
            "cell_type": "code",
            "execution_count": 5,
            "source": [
                "all_books_df.to_csv(\"all_books.csv\", index=False)\r\n",
                "# close the driver\r\n",
                "driver.close()"
            ],
            "outputs": [],
            "metadata": {}
        }
    ],
    "metadata": {
        "orig_nbformat": 4,
        "language_info": {
            "name": "python"
        }
    },
    "nbformat": 4,
    "nbformat_minor": 2
}